{
 "cells": [
  {
   "cell_type": "markdown",
   "metadata": {},
   "source": [
    "# Домашнее задание 2: модели классификации\n",
    "\n",
    "**Дедлайн: 27 декабря 23:59.**\n",
    "\n",
    "Будем тренироваться обучать модели классификации и интерпретировать их качество."
   ]
  },
  {
   "cell_type": "markdown",
   "metadata": {},
   "source": [
    "Правила:\n",
    "\n",
    "* Домашнее задание оценивается в 14 баллов (+4 бонусных балла).\n",
    "\n",
    "* Можно использовать без доказательства любые результаты, встречавшиеся на лекциях или семинарах по курсу, если получение этих результатов не является вопросом задания.\n",
    "\n",
    "* Можно использовать любые свободные источники с *обязательным* указанием ссылки на них.\n",
    "\n",
    "* Плагиат не допускается.\n",
    "\n",
    "* Старайтесь сделать код как можно более оптимальным и читаемым."
   ]
  },
  {
   "cell_type": "code",
   "execution_count": null,
   "metadata": {},
   "outputs": [],
   "source": [
    "import numpy as np\n",
    "import pandas as pd\n",
    "import matplotlib.pyplot as plt\n",
    "\n",
    "%pylab inline"
   ]
  },
  {
   "cell_type": "markdown",
   "metadata": {},
   "source": [
    "Поработайте с датасетом telecom_churn. Вам предстоит по характеристикам клиента предсказать, уйдет он или нет (целевая колонка - Churn).\n"
   ]
  },
  {
   "cell_type": "code",
   "execution_count": null,
   "metadata": {},
   "outputs": [],
   "source": [
    "data = pd.read_csv('telecom_churn.csv')\n",
    "data.head()"
   ]
  },
  {
   "cell_type": "markdown",
   "metadata": {},
   "source": [
    "**Задание 1 (1.5 балла).** Нарисуйте гистограммы распределения для следующих столбцов и ответьте по этим гистограммам на вопросы в скобках:\n",
    "    \n",
    "    1) State (какой штат имеет наибольшее число клиентов в таблице?)\n",
    "    \n",
    "    2) Total day minutes (на какое распределение больше всего похожа эта гистограмма?)\n",
    "    \n",
    "    3) Customer service calls (внутри гистограммы сделайте дополнительную детализацию по Churn. Влияет ли этот признак на целевую переменную?)\n",
    "    \n",
    "    4) Churn (каких клиентов больше: оттоковых или не оттоковых?)\n",
    "    \n",
    "Вам поможет ноутбук с занятия 2."
   ]
  },
  {
   "cell_type": "code",
   "execution_count": null,
   "metadata": {},
   "outputs": [],
   "source": [
    "import seaborn as sns\n",
    "\n",
    "#your code here"
   ]
  },
  {
   "cell_type": "markdown",
   "metadata": {},
   "source": [
    "**Задание 2 (0.5 балла).** Выведите на экран размеры таблицы. Разбейте данные на матрицу X, содержащую только признаки объектов (и не содержащую целевую переменную Churn) и вектор y, содержащий целевую переменную Churn, переведенную в числа (False - 0, True - 1)."
   ]
  },
  {
   "cell_type": "code",
   "execution_count": null,
   "metadata": {},
   "outputs": [],
   "source": [
    "X = #your code here\n",
    "y = #your code here"
   ]
  },
  {
   "cell_type": "markdown",
   "metadata": {},
   "source": [
    "**Задание 3 (0.5 балла).** Разбейте данные на тренировочную и тестовую часть с помощью функции train_test_split. Сначала нужно её импортировать. Тестовую часть возьмите равной 25% от всей выборки."
   ]
  },
  {
   "cell_type": "code",
   "execution_count": null,
   "metadata": {},
   "outputs": [],
   "source": [
    "#your code here"
   ]
  },
  {
   "cell_type": "markdown",
   "metadata": {},
   "source": [
    "**Задание 4 (0.5 балла).** Проверьте, является ли исходная выборка сбалансированной по классам? (количество оттоковых и не оттоковых клиентов по порядку одинаковое). Напишите выводы текстом."
   ]
  },
  {
   "cell_type": "code",
   "execution_count": null,
   "metadata": {},
   "outputs": [],
   "source": [
    "#your code here"
   ]
  },
  {
   "cell_type": "markdown",
   "metadata": {},
   "source": [
    "**Задание 5 (0.5 балла)**. Масштабируйте данные перед обучением моделей, так как некоторые модели чувствительны к масштабу."
   ]
  },
  {
   "cell_type": "code",
   "execution_count": null,
   "metadata": {},
   "outputs": [],
   "source": [
    "#your code here"
   ]
  },
  {
   "cell_type": "markdown",
   "metadata": {},
   "source": [
    "**Задание 6 (1.5 балла)**:\n",
    "1) Обучите логистическую регрессию на тренировочных данных, и оцените её качество на тестовых данных.\n",
    "Качество оценивать в этой задаче будем с помощью метрики f1-score.\n",
    "\n",
    "2) Подберите гиперпараметры модели с помощью GridSearchCV (как минимум подбирайте значение С, но можете попробовать перебрать и другие параметры, см. возможные параметры [здесь](https://scikit-learn.org/stable/modules/generated/sklearn.linear_model.LogisticRegression.html)."
   ]
  },
  {
   "cell_type": "code",
   "execution_count": null,
   "metadata": {},
   "outputs": [],
   "source": [
    "from sklearn.linear_model import LogisticRegression\n",
    "from sklearn.model_selection import GridSearchCV\n",
    "from sklearn.metrics import f1_score\n",
    "\n",
    "#your code here"
   ]
  },
  {
   "cell_type": "markdown",
   "metadata": {},
   "source": [
    "**Задание 7 (1.5 балла)**:\n",
    "1) Обучите метод опорных векторов на тренировочных данных, и оцените его качество на тестовых данных.\n",
    "\n",
    "2) Подберите гиперпараметры модели с помощью GridSearchCV (как минимум подбирайте значение С, но можете попробовать перебрать и другие параметры, см. возможные параметры [здесь](https://scikit-learn.org/stable/modules/generated/sklearn.svm.LinearSVC.html)."
   ]
  },
  {
   "cell_type": "code",
   "execution_count": null,
   "metadata": {},
   "outputs": [],
   "source": [
    "from sklearn.svm import LinearSVC\n",
    "\n",
    "#your code here"
   ]
  },
  {
   "cell_type": "markdown",
   "metadata": {},
   "source": [
    "**Задание 8 (1.5 балла)**:\n",
    "1) Обучите метод ближайших соседей на тренировочных данных, и оцените его качество на тестовых данных.\n",
    "\n",
    "2) Подберите гиперпараметры модели с помощью GridSearchCV (как минимум подбирайте значение n_neighbors, но можете попробовать перебрать и другие параметры, см. возможные параметры [здесь](https://scikit-learn.org/stable/modules/generated/sklearn.neighbors.KNeighborsClassifier.html)."
   ]
  },
  {
   "cell_type": "code",
   "execution_count": null,
   "metadata": {},
   "outputs": [],
   "source": [
    "from sklearn.neighbors import KNeighborsClassifier\n",
    "\n",
    "#your code here"
   ]
  },
  {
   "cell_type": "markdown",
   "metadata": {},
   "source": [
    "**Задание 9 (1.5 балла)**:\n",
    "1) Обучите решающее дерево на тренировочных данных, и оцените его качество на тестовых данных.\n",
    "\n",
    "2) Подберите гиперпараметры модели с помощью GridSearchCV (как минимум подбирайте значение max_depth, но можете попробовать перебрать и другие параметры, см. возможные параметры [здесь](https://scikit-learn.org/stable/modules/generated/sklearn.tree.DecisionTreeClassifier.html)."
   ]
  },
  {
   "cell_type": "code",
   "execution_count": null,
   "metadata": {},
   "outputs": [],
   "source": [
    "from sklearn.tree import DecisionTreeClassifier\n",
    "\n",
    "#your code here"
   ]
  },
  {
   "cell_type": "markdown",
   "metadata": {},
   "source": [
    "**Задание 10 (1.5 балла)**:\n",
    "1) Обучите случайный лес на тренировочных данных, и оцените его качество на тестовых данных.\n",
    "\n",
    "2) Подберите гиперпараметры модели с помощью GridSearchCV (как минимум подбирайте значения n-estimators и max_depth, но можете попробовать перебрать и другие параметры, см. возможные параметры [здесь](https://scikit-learn.org/stable/modules/generated/sklearn.ensemble.RandomForestClassifier.html)."
   ]
  },
  {
   "cell_type": "code",
   "execution_count": null,
   "metadata": {},
   "outputs": [],
   "source": [
    "from sklearn.ensemble import RandomForestClassifier\n",
    "\n",
    "#your code here"
   ]
  },
  {
   "cell_type": "markdown",
   "metadata": {},
   "source": [
    "**Задание 11 (1.5 балла)**:\n",
    "1) Обучите градиентный бустинг на тренировочных данных, и оцените его качество на тестовых данных.\n",
    "\n",
    "2) Подберите гиперпараметры модели с помощью GridSearchCV (как минимум подбирайте значения n-estimators и max_depth, но можете попробовать перебрать и другие параметры, см. возможные параметры [здесь](https://scikit-learn.org/stable/modules/generated/sklearn.ensemble.GradientBoostingClassifier.html)."
   ]
  },
  {
   "cell_type": "code",
   "execution_count": null,
   "metadata": {},
   "outputs": [],
   "source": [
    "from sklearn.ensemble import GradientBoostingClassifier\n",
    "\n",
    "#your code here"
   ]
  },
  {
   "cell_type": "markdown",
   "metadata": {},
   "source": [
    "**Задание 12 (1.5 балла).** Постройте матрицу корреляций признаков. Есть ли признаки, которые практически не коррелируют с целевой переменной? (коэффициент корреляции близок к 0). Попробуйте их удалить из матриц X_train и X_test.\n",
    "\n",
    "После этого заново обучите самый лучший из обученных выше алгоритмов (с самым высоким качеством) и заново подберите для него оптимальные гиперпараметры с помощью GridSearchCV. \n",
    "\n",
    "Удалось ли улучшить качество модели путём удаления \"ненужных\" признаков?"
   ]
  },
  {
   "cell_type": "code",
   "execution_count": null,
   "metadata": {},
   "outputs": [],
   "source": [
    "#your code here"
   ]
  },
  {
   "cell_type": "markdown",
   "metadata": {},
   "source": [
    "### Бонусная часть\n",
    "\n",
    "Эту часть можно выполнять, если с лёгкостью получились все предыдущие шаги, и вы хотите провести дальнейшее исследование данных для улучшения качества модели."
   ]
  },
  {
   "cell_type": "markdown",
   "metadata": {},
   "source": [
    "**Задание 13 (2 балла)**. Попробуйте добавить в данные (в матрицу X) новые полиномиальные признаки с использованием функции [PolynomialFeatures](https://scikit-learn.org/stable/modules/generated/sklearn.preprocessing.PolynomialFeatures.html). Используйте признаки degree=2.\n",
    "\n",
    "После добавления новых признаков заново разбейте данные на тренировочную и тестовую часть, а потом заново обучите лучшую с предыдущих шагов модель и подберите её гиперпараметры.\n",
    "\n",
    "Удалось ли улучшить качество с помощью этого подхода?"
   ]
  },
  {
   "cell_type": "code",
   "execution_count": null,
   "metadata": {},
   "outputs": [],
   "source": [
    "from sklearn.preprocessing import PolynomialFeatures\n",
    "\n",
    "#your code here"
   ]
  },
  {
   "cell_type": "markdown",
   "metadata": {},
   "source": [
    "**Задание 14 (2 балла).** Посчитайте кореляции между всеми парами признаков (можно использовать расширенный набор признаков после выполнения задания 12). Найдите пару признаков, сильно коррелирующих между собой. Из этой пары удалите один признак. \n",
    "\n",
    "Можно эту процедуру провести не для одной,  а для нескольких пар признаков.\n",
    "\n",
    "На данных с удаленными признаками заново обучите лучшую модель и подберите её гиперпараметры. Удалось ли улучшить качество модели?"
   ]
  },
  {
   "cell_type": "code",
   "execution_count": null,
   "metadata": {},
   "outputs": [],
   "source": [
    "#your code here"
   ]
  },
  {
   "cell_type": "markdown",
   "metadata": {},
   "source": [
    "Сделайте небольшой **отчет** по результатам выполнения заданий. Какая модель оказалась наилучшей? Какая справилась хуже всего? Удалось ли добиться хорошего качества в решении задачи?"
   ]
  },
  {
   "cell_type": "markdown",
   "metadata": {},
   "source": [
    "Ваш отчет здесь."
   ]
  }
 ],
 "metadata": {
  "kernelspec": {
   "display_name": "Python 3",
   "language": "python",
   "name": "python3"
  },
  "language_info": {
   "codemirror_mode": {
    "name": "ipython",
    "version": 3
   },
   "file_extension": ".py",
   "mimetype": "text/x-python",
   "name": "python",
   "nbconvert_exporter": "python",
   "pygments_lexer": "ipython3",
   "version": "3.7.6"
  }
 },
 "nbformat": 4,
 "nbformat_minor": 2
}
