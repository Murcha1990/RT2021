{
 "cells": [
  {
   "cell_type": "markdown",
   "metadata": {
    "_uuid": "21c25e4f8bb31570029fd6b069131a5d00f84cf1"
   },
   "source": [
    "# Исследование факторов, влияющих на оценки студентов на экзаменах\n",
    "\n",
    "Ежегодно сотрудники некоторой компании проходят аттестацию, где по 100-балльной шкале получают оценки за уровень знаний по специальности (erudition_score), за коммуникативные навыки (communication_score) и за уровень продуктивности на работе (productivity).\n",
    "\n",
    "Каждый год сотрудники могут улучшать свои навыки, проходя подготовительный курс.\n",
    "\n",
    "Также на результаты влияют и другие факторы (уровень образования и, как ни странно, состав обеда, оценка сотрудника начальником - от А до E, пол сотрудника).\n",
    "\n",
    "## Цели\n",
    "#### 1. Понять, как различные факторы (экономические, социальные, личные) влияют на оценки студентов на экзаменах \n",
    "#### 2. Познакомиться с библиотекой seaborn.\n",
    "#### 3. Применить линейную регрессию для предсказания среднего балла за экзамены.\n",
    "\n",
    "Что нового рассказать:\n",
    "\n",
    "* как кодировать категориальные признаки\n",
    "* по какой формуле работает линейная регрессия и как оценивать её качество"
   ]
  },
  {
   "cell_type": "markdown",
   "metadata": {
    "_uuid": "1b89f791bf6725555291066adf5ae7b0440c2c46"
   },
   "source": [
    "#### Импортируем необходимые библиотеки"
   ]
  },
  {
   "cell_type": "code",
   "execution_count": null,
   "metadata": {
    "_uuid": "568eb2d31004b87d22e119112ae01a1e75105f1d"
   },
   "outputs": [],
   "source": [
    "import numpy as np\n",
    "import pandas as pd\n",
    "import seaborn as sns\n",
    "import matplotlib.pyplot as plt"
   ]
  },
  {
   "cell_type": "markdown",
   "metadata": {
    "_uuid": "ea0d9f66ad13b0209e6fee799631e83663b23d9f"
   },
   "source": [
    "#### Зафиксируем минимальный балл для прохождения аттестации (экзамена)"
   ]
  },
  {
   "cell_type": "code",
   "execution_count": null,
   "metadata": {
    "_uuid": "0b2a8028554a52c2348772d70fbb1622eec65c04"
   },
   "outputs": [],
   "source": [
    "passmark = 40"
   ]
  },
  {
   "cell_type": "markdown",
   "metadata": {
    "_uuid": "64576ad2924cd795c6ef41b2f7db4cd90bffb2a3"
   },
   "source": [
    "#### Считаем данные из csv файла EmployeesPerformance.csv\n",
    "\n",
    "* rating - рейтинг успеваемости (группа А - низкий рейтинг, E - высокий)\n",
    "* old_mean_score - средний балл за экзамен в прошлом году (в долях 1; можно перевести в 100-балльную шкалу умножением на 100)"
   ]
  },
  {
   "cell_type": "code",
   "execution_count": null,
   "metadata": {
    "_uuid": "cf75361436475758b8aa1cd4e677e0dbd4b506d3"
   },
   "outputs": [],
   "source": [
    "df = pd.read_csv(\"EmployeesPerformance2021.csv\")"
   ]
  },
  {
   "cell_type": "markdown",
   "metadata": {
    "_uuid": "8524af4cbd2f7b7810e8a3095a74c9fe1df7eafa"
   },
   "source": [
    "#### Напечатаем первые несколько строк в таблице"
   ]
  },
  {
   "cell_type": "code",
   "execution_count": null,
   "metadata": {
    "_uuid": "fe62eee87b9b94ab923f57b55eaf0554612aa9e9"
   },
   "outputs": [],
   "source": [
    "# your code here"
   ]
  },
  {
   "cell_type": "markdown",
   "metadata": {
    "_uuid": "5fcd622942b7ecfc318934c6a245d3bb3bf01e84"
   },
   "source": [
    "#### Выведем на экран размеры полученной таблицы"
   ]
  },
  {
   "cell_type": "code",
   "execution_count": null,
   "metadata": {
    "_uuid": "16281cd7b4e941ebed8ca2e1b42f62f55d838684"
   },
   "outputs": [],
   "source": [
    "df.shape"
   ]
  },
  {
   "cell_type": "code",
   "execution_count": null,
   "metadata": {},
   "outputs": [],
   "source": [
    "df.info()"
   ]
  },
  {
   "cell_type": "markdown",
   "metadata": {
    "_uuid": "fe8e3d58d29ca25dbbcf001392377643e6ff9a36"
   },
   "source": [
    "#### Выведем на экран статистические характеристики числовых столбцов таблицы (минимум, максимум, среднее значение, стандартное отклонение)"
   ]
  },
  {
   "cell_type": "code",
   "execution_count": null,
   "metadata": {
    "_uuid": "e3d4bb80d2c4251fe517c24fcf08c5ff2d67b8aa"
   },
   "outputs": [],
   "source": [
    "# your code here"
   ]
  },
  {
   "cell_type": "markdown",
   "metadata": {},
   "source": [
    "Посмотрим на распределение баллов по каждому экзамену."
   ]
  },
  {
   "cell_type": "code",
   "execution_count": null,
   "metadata": {},
   "outputs": [],
   "source": [
    "plt.figure(figsize=(14,6))\n",
    "plt.subplot(1, 4, 1)\n",
    "plt.title('ERUDITION SCORES')\n",
    "sns.violinplot(y='erudition_score',data=df,palette='summer',linewidth=3)\n",
    "plt.subplot(1, 4, 2)\n",
    "plt.title('COMMUNICATION SCORES')\n",
    "sns.violinplot(y='communication_score',data=df,palette='Wistia_r',linewidth=3)\n",
    "plt.subplot(1, 4, 3)\n",
    "plt.title('PRODUCTIVITY')\n",
    "sns.violinplot(y='productivity',data=df,palette='spring',linewidth=3)\n",
    "plt.show()"
   ]
  },
  {
   "cell_type": "markdown",
   "metadata": {},
   "source": [
    "Из графиков видно, что большинство сотрудников набрали 60-80 по тесту на эрудицию и 50-80 по тестам на коммуникабельность и продуктивность."
   ]
  },
  {
   "cell_type": "markdown",
   "metadata": {
    "_uuid": "b26b7de83485ecb3b8a0a7865a596e24527c7b2f"
   },
   "source": [
    "#### Проверьте, есть ли в таблице пропущенные значения"
   ]
  },
  {
   "cell_type": "code",
   "execution_count": null,
   "metadata": {
    "_uuid": "4eac3f8f83d07c6e58ad1576fe0e773f37034a2f"
   },
   "outputs": [],
   "source": [
    "df.isnull().sum()"
   ]
  },
  {
   "cell_type": "markdown",
   "metadata": {},
   "source": [
    "**Посмотрим, как зависят оценки от того, проходил ли сотрудник курс для подготовки к сдаче экзамена (test preparation course)\n",
    "и от пола (gender)**\n",
    "\n",
    "Постройте график (гистограмму, любую нравящуюся вам визуализацию) зависимости оценок за эрудицию (erudition score) от test preparation course и от gender. То же самое - для оценок за communication и productivity."
   ]
  },
  {
   "cell_type": "code",
   "execution_count": null,
   "metadata": {},
   "outputs": [],
   "source": [
    "plt.figure(figsize=(20,8))\n",
    "plt.subplot(1, 3, 1)\n",
    "sns.barplot(x='test preparation course',y='erudition_score',data=df,hue='gender',\\\n",
    "           palette='summer')\n",
    "plt.title('ERUDITION SCORES')\n",
    "plt.subplot(1, 3, 2)\n",
    "sns.barplot(x='test preparation course',y='communication_score',data=df,hue='gender',\\\n",
    "           palette='summer')\n",
    "plt.title('COMMUNICATION SCORES')\n",
    "plt.subplot(1, 3, 3)\n",
    "sns.barplot(x='test preparation course',y='productivity',data=df,hue='gender',\\\n",
    "           palette='summer')\n",
    "plt.title('PRODUCTIVITY')\n",
    "plt.show()"
   ]
  },
  {
   "cell_type": "markdown",
   "metadata": {},
   "source": [
    "Какие выводы можно сделать из этих графиков?"
   ]
  },
  {
   "cell_type": "markdown",
   "metadata": {},
   "source": [
    "Можно визуализировать все попарные зависимости между числовыми признаками."
   ]
  },
  {
   "cell_type": "code",
   "execution_count": null,
   "metadata": {},
   "outputs": [],
   "source": [
    "sns.pairplot(data=df,hue='gender',plot_kws={'alpha':0.2},palette='hot')"
   ]
  },
  {
   "cell_type": "markdown",
   "metadata": {},
   "source": [
    "Как влияет lunch на оценки?\n",
    "\n",
    "Выведем на экран все различные значения из столбца lunch"
   ]
  },
  {
   "cell_type": "code",
   "execution_count": null,
   "metadata": {},
   "outputs": [],
   "source": [
    "# your code here"
   ]
  },
  {
   "cell_type": "markdown",
   "metadata": {},
   "source": [
    "Построим barplot, отражающий зависимость оценок за erudition от test preparation course; сделаем разделение по 'lunch'.\n",
    "То же самое - для communication и productivity."
   ]
  },
  {
   "cell_type": "code",
   "execution_count": null,
   "metadata": {},
   "outputs": [],
   "source": [
    "#your code here\n",
    "plt.figure(figsize=(20,8))\n",
    "plt.subplot(1, 3, 1)\n",
    "sns.barplot(x='lunch',y='erudition_score',data=df,hue='gender',\\\n",
    "           palette='winter')\n",
    "plt.title('ERUDITION SCORES')\n",
    "plt.subplot(1, 3, 2)\n",
    "sns.barplot(x='lunch',y='communication_score',data=df,hue='gender',\\\n",
    "           palette='winter')\n",
    "plt.title('COMMUNICATION SCORES')\n",
    "plt.subplot(1, 3, 3)\n",
    "sns.barplot(x='lunch',y='productivity',data=df,hue='gender',\\\n",
    "           palette='winter')\n",
    "plt.title('PRODUCTIVITY')\n",
    "plt.show()"
   ]
  },
  {
   "cell_type": "markdown",
   "metadata": {},
   "source": [
    "Как зависят баллы от типа lunch?"
   ]
  },
  {
   "cell_type": "markdown",
   "metadata": {
    "_uuid": "cccc10c7a787878ea4ccd5a440a8f3d2bc9c76d3"
   },
   "source": [
    "####  Исследуем оценки за эрудицию (erudition)\n",
    "\n",
    "Построим гистограмму (sns.countplot) распределения оценок за эрудицию."
   ]
  },
  {
   "cell_type": "code",
   "execution_count": null,
   "metadata": {
    "_uuid": "2dad62e7e10d4faf42f23317864c79c3ac904a08",
    "scrolled": false
   },
   "outputs": [],
   "source": [
    "plt.figure(figsize=(5,5))\n",
    "sns.countplot(x='erudition_score',data=df,palette='summer')\n",
    "plt.show()"
   ]
  },
  {
   "cell_type": "markdown",
   "metadata": {
    "_uuid": "3e832cb427c4314582d1953a41b8c78db75e30e3"
   },
   "source": [
    "#### Сколько сотрудников успешно сдали тест на эрудицию?\n",
    "\n",
    "Создайте новый столбец в таблице df под названием Erudition_PassStatus и запишите в него F, если сотрудник не сдал тест на эрудицию (балл за экзамен < passmark), и P иначе.\n",
    "\n",
    "Посчитайте количество сотрудников, сдавших и не сдавших экзамен по математике."
   ]
  },
  {
   "cell_type": "code",
   "execution_count": null,
   "metadata": {
    "_uuid": "f43cddb72cc96b30df84bc0de83a4d9170904340"
   },
   "outputs": [],
   "source": [
    "#your code here\n",
    "df['Erudition_PassStatus'] = np.where(df['erudition_score'] < passmark, 'F', 'P')\n",
    "\n",
    "#or\n",
    "\n",
    "df['Erudition_PassStatus'] = df['erudition_score'].apply(lambda x: 'F' if x < passmark \\\n",
    "                                              else 'P')"
   ]
  },
  {
   "cell_type": "code",
   "execution_count": null,
   "metadata": {
    "scrolled": true
   },
   "outputs": [],
   "source": [
    "df.Erudition_PassStatus"
   ]
  },
  {
   "cell_type": "markdown",
   "metadata": {},
   "source": [
    "Как зависит успех сдачи экзамена от уровня образования? \n",
    "\n",
    "Постройте гистограмму (countplot) распределения сотрудников по уровням образования"
   ]
  },
  {
   "cell_type": "code",
   "execution_count": null,
   "metadata": {},
   "outputs": [],
   "source": [
    "fig,ax=plt.subplots()\n",
    "sns.countplot(x='level of education',data=df,hue='Erudition_PassStatus')\n",
    "fig.autofmt_xdate()"
   ]
  },
  {
   "cell_type": "markdown",
   "metadata": {
    "_uuid": "b753c90914ee65501e2ed263ea614d88a381c472"
   },
   "source": [
    "#### Сколько сотрудников успешно сдали все экзамены?\n",
    "\n",
    "Создадим столбец OverAll_PassStatus и запишем в него для каждого сотрудника 'F', если он не сдал хотя бы один из трех экзаменов, а иначе 'P'.\n",
    "\n",
    "Посчитаем количество сотрудников, которые сдали все экзамены."
   ]
  },
  {
   "cell_type": "code",
   "execution_count": null,
   "metadata": {
    "_uuid": "e98f895a022b967cab801447b616222439fe9d84"
   },
   "outputs": [],
   "source": [
    "df['OverAll_PassStatus'] = df.apply(lambda x: 'P' if x['erudition_score'] >= passmark and \\\n",
    "                                                     x['communication_score'] >= passmark and \\\n",
    "                                                     x['productivity'] >= passmark \\\n",
    "                                         else 'F', axis=1)\n",
    "df.head()"
   ]
  },
  {
   "cell_type": "markdown",
   "metadata": {},
   "source": [
    "Создадим диаграмму, отображающую зависимость OverAll_PassStatus от level of education"
   ]
  },
  {
   "cell_type": "code",
   "execution_count": null,
   "metadata": {
    "_uuid": "616218bdd8992658024bc9485d0bcec61269dd90"
   },
   "outputs": [],
   "source": [
    "fig,ax=plt.subplots()\n",
    "sns.countplot(x='level of education',hue='OverAll_PassStatus',data=df)\n",
    "fig.autofmt_xdate()"
   ]
  },
  {
   "cell_type": "markdown",
   "metadata": {
    "_uuid": "84d223387b7df9074ece4f55aba9204fa83b7726"
   },
   "source": [
    "#### Найдем распределение средней оценки за все экзамены\n",
    "\n",
    "Создадим столбец Percentage, в который запишем средний балл сотрудника за все дисциплины.\n",
    "\n",
    "Нарисуем гистограмму распределения среднего балла."
   ]
  },
  {
   "cell_type": "code",
   "execution_count": null,
   "metadata": {
    "_uuid": "d327e9d26024b53eaa30d49ffe0694780003f216"
   },
   "outputs": [],
   "source": [
    "df['Percentage'] = (df['erudition_score'] + df['communication_score'] + df['productivity']) / 3\n",
    "df.head()"
   ]
  },
  {
   "cell_type": "markdown",
   "metadata": {},
   "source": [
    "**Средний балл в зависимости от уровня образования**"
   ]
  },
  {
   "cell_type": "code",
   "execution_count": null,
   "metadata": {},
   "outputs": [],
   "source": [
    "fig,ax=plt.subplots()\n",
    "sns.barplot(x='level of education',y='Percentage',data=df,palette='Wistia')\n",
    "fig.autofmt_xdate()"
   ]
  },
  {
   "cell_type": "markdown",
   "metadata": {
    "_uuid": "53575fb3310f108e286e30f2f791b3791f1df977"
   },
   "source": [
    "Посмотрим на лучших сотрудников"
   ]
  },
  {
   "cell_type": "code",
   "execution_count": null,
   "metadata": {},
   "outputs": [],
   "source": [
    "df[(df['erudition_score'] > 90) & (df['communication_score'] > 90) & (df['productivity']>90)]\\\n",
    ".sort_values(by=['Percentage'],ascending=False)"
   ]
  },
  {
   "cell_type": "markdown",
   "metadata": {},
   "source": [
    "# Машинное обучение"
   ]
  },
  {
   "cell_type": "markdown",
   "metadata": {},
   "source": [
    "Закодируем категориальные признаки с помощью OneHot-кодирования:\n",
    "\n",
    "![title](OHEnc.png)"
   ]
  },
  {
   "cell_type": "markdown",
   "metadata": {},
   "source": [
    "Закодируем с помощью OneHotEncoding категориальные признаки"
   ]
  },
  {
   "cell_type": "code",
   "execution_count": null,
   "metadata": {
    "scrolled": true
   },
   "outputs": [],
   "source": [
    "base = pd.get_dummies(df, columns=['gender','rating','level of education','test preparation course',\\\n",
    "                                  'lunch'], drop_first=True, dtype = int)\n",
    "base.sample()\n",
    "base.info()"
   ]
  },
  {
   "cell_type": "code",
   "execution_count": null,
   "metadata": {},
   "outputs": [],
   "source": [
    "base.head()"
   ]
  },
  {
   "cell_type": "markdown",
   "metadata": {},
   "source": [
    "## Решим задачу регрессии: предскажем средний балл каждого сотрудника.\n",
    "\n",
    "## Создадим обучающую матрицу и столбец с целевой переменной.\n",
    "\n",
    "Создайте матрицу признаков X, состоящую только из закодированных признаков.\n",
    "\n",
    "Создайте целевой вектор y, равный столбцу Percentage."
   ]
  },
  {
   "cell_type": "code",
   "execution_count": null,
   "metadata": {},
   "outputs": [],
   "source": [
    "y = df['Percentage']\n",
    "\n",
    "X = base.copy()\n",
    "X.drop(['erudition_score','communication_score','productivity','Erudition_PassStatus','OverAll_PassStatus','Percentage'], axis=1, inplace=True)"
   ]
  },
  {
   "cell_type": "code",
   "execution_count": null,
   "metadata": {},
   "outputs": [],
   "source": [
    "X.head()"
   ]
  },
  {
   "cell_type": "markdown",
   "metadata": {},
   "source": [
    "Разобъем данные на тренировочную и тестовую части."
   ]
  },
  {
   "cell_type": "code",
   "execution_count": null,
   "metadata": {
    "scrolled": true
   },
   "outputs": [],
   "source": [
    "from sklearn.model_selection import train_test_split\n",
    "from sklearn.linear_model import LinearRegression\n",
    "from sklearn.metrics import mean_squared_error\n",
    "\n",
    "train_x, test_x, train_y, test_y = train_test_split(X, y, test_size = 0.25)"
   ]
  },
  {
   "cell_type": "markdown",
   "metadata": {},
   "source": [
    "## Будем использовать модель линейной регрессии\n",
    "\n",
    "![title](LR.png)"
   ]
  },
  {
   "cell_type": "markdown",
   "metadata": {},
   "source": [
    "Предсказание делается по формуле - сумма признаков с весами:\n",
    "    \n",
    " $y = w_0 + w_1\\cdot x_1 + w_2\\cdot x_2 + ...$"
   ]
  },
  {
   "cell_type": "markdown",
   "metadata": {},
   "source": [
    "Объявим модель и обучим её на тренировочных данных."
   ]
  },
  {
   "cell_type": "code",
   "execution_count": null,
   "metadata": {},
   "outputs": [],
   "source": [
    "model = LinearRegression()\n",
    "model.fit(train_x,train_y)"
   ]
  },
  {
   "cell_type": "markdown",
   "metadata": {},
   "source": [
    "Сделаем предсказание на тестовых данных и оценим качество."
   ]
  },
  {
   "cell_type": "code",
   "execution_count": null,
   "metadata": {},
   "outputs": [],
   "source": [
    "target = model.predict(test_x)\n",
    "\n",
    "mean_squared_error(target,test_y) ** 0.5"
   ]
  },
  {
   "cell_type": "markdown",
   "metadata": {},
   "source": [
    "Как интерпретировать эту ошибку?"
   ]
  },
  {
   "cell_type": "markdown",
   "metadata": {},
   "source": [
    "Посмотрим глазами на предсказания."
   ]
  },
  {
   "cell_type": "code",
   "execution_count": null,
   "metadata": {},
   "outputs": [],
   "source": [
    "for i in range(10):\n",
    "    print('answer:', test_y.values[i])\n",
    "    print('predicted:', target[i])\n",
    "    print()"
   ]
  },
  {
   "cell_type": "markdown",
   "metadata": {},
   "source": [
    "Запишем формулу для предсказания:\n",
    "\n",
    "$$y = 55 + 17\\cdot old\\_mean\\_score - 3.4\\cdot gender\\_male + 2\\cdot group\\_B + 5.6\\cdot group\\_C + 7.2\\cdot group\\_D + 3.3\\cdot group\\_E - 4.8\\cdot bachelor + 3.9\\cdot high\\_school - 0.7\\cdot master - 3.5\\cdot college - 6.3\\cdot some\\_high\\_school + 7.7\\cdot preparation\\_course\\_none$$"
   ]
  },
  {
   "cell_type": "code",
   "execution_count": null,
   "metadata": {},
   "outputs": [],
   "source": [
    "model.coef_, model.intercept_, X.columns"
   ]
  },
  {
   "cell_type": "markdown",
   "metadata": {},
   "source": [
    "Визуализируем коэффициенты."
   ]
  },
  {
   "cell_type": "code",
   "execution_count": null,
   "metadata": {},
   "outputs": [],
   "source": [
    "def visualize_coefficients(model, feature_names, n_features=6):\n",
    "\n",
    "    coef = model.coef_.ravel()\n",
    "    positive_coefficients = np.argsort(coef)[-n_features:]\n",
    "    negative_coefficients = np.argsort(coef)[:n_features]\n",
    "    all_coefs = np.hstack([negative_coefficients, positive_coefficients])\n",
    "\n",
    "    plt.figure(figsize=(15, 5))\n",
    "    colors = [\"red\" if c < 0 else \"blue\" for c in coef[all_coefs]]\n",
    "    plt.bar(np.arange(2*n_features), coef[all_coefs], color=colors)\n",
    "    feature_names = np.array(feature_names)\n",
    "    plt.xticks(np.arange(1, 1+2*n_features), feature_names[all_coefs], rotation=60, ha=\"right\")\n",
    "    \n",
    "visualize_coefficients(model, X.columns.values)"
   ]
  }
 ],
 "metadata": {
  "kernelspec": {
   "display_name": "Python 3",
   "language": "python",
   "name": "python3"
  },
  "language_info": {
   "codemirror_mode": {
    "name": "ipython",
    "version": 3
   },
   "file_extension": ".py",
   "mimetype": "text/x-python",
   "name": "python",
   "nbconvert_exporter": "python",
   "pygments_lexer": "ipython3",
   "version": "3.7.6"
  }
 },
 "nbformat": 4,
 "nbformat_minor": 1
}
