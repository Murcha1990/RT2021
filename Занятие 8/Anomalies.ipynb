{
 "cells": [
  {
   "cell_type": "markdown",
   "metadata": {},
   "source": [
    "# Поиск аномалий\n",
    "\n",
    "Зачем искать выбросы?\n",
    "\n",
    "* Для анализа данных, для лучшего понимания данных\n",
    "* Для улучшения качества предсказательных моделей"
   ]
  },
  {
   "cell_type": "code",
   "execution_count": 60,
   "metadata": {},
   "outputs": [
    {
     "name": "stdout",
     "output_type": "stream",
     "text": [
      "Populating the interactive namespace from numpy and matplotlib\n"
     ]
    },
    {
     "name": "stderr",
     "output_type": "stream",
     "text": [
      "C:\\Users\\elena\\AppData\\Roaming\\Python\\Python37\\site-packages\\IPython\\core\\magics\\pylab.py:160: UserWarning: pylab import has clobbered these variables: ['plt']\n",
      "`%matplotlib` prevents importing * from pylab and numpy\n",
      "  \"\\n`%matplotlib` prevents importing * from pylab and numpy\"\n"
     ]
    },
    {
     "data": {
      "text/html": [
       "<div>\n",
       "<style scoped>\n",
       "    .dataframe tbody tr th:only-of-type {\n",
       "        vertical-align: middle;\n",
       "    }\n",
       "\n",
       "    .dataframe tbody tr th {\n",
       "        vertical-align: top;\n",
       "    }\n",
       "\n",
       "    .dataframe thead th {\n",
       "        text-align: right;\n",
       "    }\n",
       "</style>\n",
       "<table border=\"1\" class=\"dataframe\">\n",
       "  <thead>\n",
       "    <tr style=\"text-align: right;\">\n",
       "      <th></th>\n",
       "      <th>CRIM</th>\n",
       "      <th>ZN</th>\n",
       "      <th>INDUS</th>\n",
       "      <th>CHAS</th>\n",
       "      <th>NOX</th>\n",
       "      <th>RM</th>\n",
       "      <th>AGE</th>\n",
       "      <th>DIS</th>\n",
       "      <th>RAD</th>\n",
       "      <th>TAX</th>\n",
       "      <th>PTRATIO</th>\n",
       "      <th>B</th>\n",
       "      <th>LSTAT</th>\n",
       "    </tr>\n",
       "  </thead>\n",
       "  <tbody>\n",
       "    <tr>\n",
       "      <th>0</th>\n",
       "      <td>0.00632</td>\n",
       "      <td>18.0</td>\n",
       "      <td>2.31</td>\n",
       "      <td>0.0</td>\n",
       "      <td>0.538</td>\n",
       "      <td>6.575</td>\n",
       "      <td>65.2</td>\n",
       "      <td>4.0900</td>\n",
       "      <td>1.0</td>\n",
       "      <td>296.0</td>\n",
       "      <td>15.3</td>\n",
       "      <td>396.90</td>\n",
       "      <td>4.98</td>\n",
       "    </tr>\n",
       "    <tr>\n",
       "      <th>1</th>\n",
       "      <td>0.02731</td>\n",
       "      <td>0.0</td>\n",
       "      <td>7.07</td>\n",
       "      <td>0.0</td>\n",
       "      <td>0.469</td>\n",
       "      <td>6.421</td>\n",
       "      <td>78.9</td>\n",
       "      <td>4.9671</td>\n",
       "      <td>2.0</td>\n",
       "      <td>242.0</td>\n",
       "      <td>17.8</td>\n",
       "      <td>396.90</td>\n",
       "      <td>9.14</td>\n",
       "    </tr>\n",
       "    <tr>\n",
       "      <th>2</th>\n",
       "      <td>0.02729</td>\n",
       "      <td>0.0</td>\n",
       "      <td>7.07</td>\n",
       "      <td>0.0</td>\n",
       "      <td>0.469</td>\n",
       "      <td>7.185</td>\n",
       "      <td>61.1</td>\n",
       "      <td>4.9671</td>\n",
       "      <td>2.0</td>\n",
       "      <td>242.0</td>\n",
       "      <td>17.8</td>\n",
       "      <td>392.83</td>\n",
       "      <td>4.03</td>\n",
       "    </tr>\n",
       "    <tr>\n",
       "      <th>3</th>\n",
       "      <td>0.03237</td>\n",
       "      <td>0.0</td>\n",
       "      <td>2.18</td>\n",
       "      <td>0.0</td>\n",
       "      <td>0.458</td>\n",
       "      <td>6.998</td>\n",
       "      <td>45.8</td>\n",
       "      <td>6.0622</td>\n",
       "      <td>3.0</td>\n",
       "      <td>222.0</td>\n",
       "      <td>18.7</td>\n",
       "      <td>394.63</td>\n",
       "      <td>2.94</td>\n",
       "    </tr>\n",
       "    <tr>\n",
       "      <th>4</th>\n",
       "      <td>0.06905</td>\n",
       "      <td>0.0</td>\n",
       "      <td>2.18</td>\n",
       "      <td>0.0</td>\n",
       "      <td>0.458</td>\n",
       "      <td>7.147</td>\n",
       "      <td>54.2</td>\n",
       "      <td>6.0622</td>\n",
       "      <td>3.0</td>\n",
       "      <td>222.0</td>\n",
       "      <td>18.7</td>\n",
       "      <td>396.90</td>\n",
       "      <td>5.33</td>\n",
       "    </tr>\n",
       "  </tbody>\n",
       "</table>\n",
       "</div>"
      ],
      "text/plain": [
       "      CRIM    ZN  INDUS  CHAS    NOX     RM   AGE     DIS  RAD    TAX  \\\n",
       "0  0.00632  18.0   2.31   0.0  0.538  6.575  65.2  4.0900  1.0  296.0   \n",
       "1  0.02731   0.0   7.07   0.0  0.469  6.421  78.9  4.9671  2.0  242.0   \n",
       "2  0.02729   0.0   7.07   0.0  0.469  7.185  61.1  4.9671  2.0  242.0   \n",
       "3  0.03237   0.0   2.18   0.0  0.458  6.998  45.8  6.0622  3.0  222.0   \n",
       "4  0.06905   0.0   2.18   0.0  0.458  7.147  54.2  6.0622  3.0  222.0   \n",
       "\n",
       "   PTRATIO       B  LSTAT  \n",
       "0     15.3  396.90   4.98  \n",
       "1     17.8  396.90   9.14  \n",
       "2     17.8  392.83   4.03  \n",
       "3     18.7  394.63   2.94  \n",
       "4     18.7  396.90   5.33  "
      ]
     },
     "execution_count": 60,
     "metadata": {},
     "output_type": "execute_result"
    }
   ],
   "source": [
    "import pandas as pd\n",
    "from sklearn.datasets import load_boston\n",
    "from matplotlib import pylab as plt\n",
    "%pylab inline\n",
    "\n",
    "boston = load_boston()\n",
    "X = boston.data\n",
    "y = boston.target\n",
    "columns = boston.feature_names\n",
    "boston_df = pd.DataFrame(boston.data)\n",
    "boston_df.columns = columns\n",
    "boston_df.head()"
   ]
  },
  {
   "cell_type": "markdown",
   "metadata": {},
   "source": [
    "## 1. Однофакторный анализ\n",
    "\n",
    "Ищем выбросы по каждому признаку в отдельности.\n",
    "\n",
    "Посмотрим на распределение признака.\n",
    "\n",
    "*Если мы хотим удалять выбросы через Z-score или интерквартильный размах, то такой подход применим только к данным, имеющим нормальное распределение!*"
   ]
  },
  {
   "cell_type": "code",
   "execution_count": 128,
   "metadata": {},
   "outputs": [
    {
     "data": {
      "text/plain": [
       "(array([  2.,   4.,  14.,  45., 177., 151.,  69.,  22.,  13.,   9.]),\n",
       " array([3.561 , 4.0829, 4.6048, 5.1267, 5.6486, 6.1705, 6.6924, 7.2143,\n",
       "        7.7362, 8.2581, 8.78  ]),\n",
       " <a list of 10 Patch objects>)"
      ]
     },
     "execution_count": 128,
     "metadata": {},
     "output_type": "execute_result"
    },
    {
     "data": {
      "image/png": "[encoded data removed]",
      "text/plain": [
       "<Figure size 432x288 with 1 Axes>"
      ]
     },
     "metadata": {
      "needs_background": "light"
     },
     "output_type": "display_data"
    }
   ],
   "source": [
    "hist(boston_df['RM'])"
   ]
  },
  {
   "cell_type": "markdown",
   "metadata": {},
   "source": [
    "### Z-score\n",
    "\n",
    "Стандартизованная оценка (z-оценка, англ. : Standard score, z-score) - это мера относительного разброса наблюдаемого или измеренного значения, которая показывает сколько стандартных отклонений составляет его разброс относительного среднего значения.\n",
    "\n",
    "**Интуиция.**\n",
    "Вычисляя Z-score, мы масштабируем и центрируем данные и смотрим на точки, которые находятся далеко от 0. Точки, которые достаточно далеко от 0, считаются выбросами. В большинстве случаев используется порог 3 или -3, т.е. если Z-score больше 3 или меньше -3, то точка считается выбросом."
   ]
  },
  {
   "cell_type": "code",
   "execution_count": 9,
   "metadata": {},
   "outputs": [
    {
     "name": "stdout",
     "output_type": "stream",
     "text": [
      "[4.13671889e-01 1.94274453e-01 1.28271368e+00 1.01630251e+00\n",
      " 1.22857665e+00 2.07096381e-01 3.88410945e-01 1.60465557e-01\n",
      " 9.31205901e-01 3.99808215e-01 1.31589471e-01 3.92684921e-01\n",
      " 5.63643963e-01 4.78164442e-01 2.68739617e-01 6.42000190e-01\n",
      " 4.98109663e-01 4.19753436e-01 1.18052117e+00 7.94438668e-01\n",
      " 1.01811008e+00 4.55369903e-01 2.03205317e-01 6.71918022e-01\n",
      " 5.13780909e-01 9.76794979e-01 6.71918022e-01 3.38547892e-01\n",
      " 2.99699195e-01 5.54713098e-01 8.14383890e-01 3.02931425e-01\n",
      " 4.76739783e-01 8.31479794e-01 2.68739617e-01 5.00958981e-01\n",
      " 6.32027579e-01 6.19205651e-01 4.53945244e-01 4.42165063e-01\n",
      " 1.05334363e+00 6.91480331e-01 1.64739533e-01 1.04903869e-01\n",
      " 3.07205401e-01 8.58548308e-01 7.10383806e-01 3.62767089e-01\n",
      " 1.26172671e+00 9.72521003e-01 4.58219220e-01 2.41671102e-01\n",
      " 3.22493734e-01 4.08356167e-01 5.65068621e-01 1.37389184e+00\n",
      " 1.40137423e-01 7.57014630e-01 1.98931341e-01 5.09506933e-01\n",
      " 7.74493447e-01 4.53945244e-01 2.44137507e-01 6.80083062e-01\n",
      " 1.16731633e+00 7.64416661e-03 7.08959147e-01 5.79315208e-01\n",
      " 9.83918272e-01 5.69342597e-01 1.88575818e-01 4.61068538e-01\n",
      " 3.12904036e-01 5.64654738e-02 1.65750309e-02 1.94553191e-03\n",
      " 8.02707883e-03 2.06054635e-01 7.49860366e-02 5.85013843e-01\n",
      " 6.30220008e-01 4.76356871e-01 2.47400707e-02 1.67588851e-01\n",
      " 1.48685376e-01 4.92028116e-01 3.84136969e-01 2.33123150e-01\n",
      " 1.02912444e+00 1.13169986e+00 1.88575818e-01 1.71479914e-01\n",
      " 2.24192285e-01 1.04903869e-01 5.07668391e-02 4.84904823e-01\n",
      " 1.73287485e-01 2.54211195e+00 2.18737194e+00 1.61180984e+00\n",
      " 6.30220008e-01 7.07151577e-01 1.71479914e-01 2.10328611e-01\n",
      " 1.67588851e-01 6.17780992e-01 6.39150872e-01 2.24575198e-01\n",
      " 2.69781363e-01 7.92600126e-02 1.27698408e-01 6.13124104e-01\n",
      " 5.29452154e-01 2.74438251e-01 4.36435457e-02 5.08082274e-01\n",
      " 1.54766922e-01 3.75589017e-01 5.87863160e-01 7.88740033e-01\n",
      " 5.90712477e-01 3.99808215e-01 4.61068538e-01 6.10657699e-01\n",
      " 5.77890549e-01 4.25452071e-01 9.56849757e-01 8.42877063e-01\n",
      " 2.08521040e-01 9.22657949e-01 2.46986824e-01 5.89318790e-02\n",
      " 1.24466178e-01 6.59096094e-01 7.51698908e-01 7.17538070e-02\n",
      " 4.88137053e-01 2.41288189e-01 6.09233040e-01 1.90383389e-01\n",
      " 1.57616240e-01 1.80309701e+00 1.25602808e+00 1.16342527e+00\n",
      " 1.96835742e+00 2.20301222e-01 9.35479877e-01 1.93559027e+00\n",
      " 1.56517901e+00 9.79644296e-01 2.31698491e-01 1.25460342e+00\n",
      " 1.81306962e+00 8.20082524e-01 2.21725880e-01 1.88958731e-01\n",
      " 1.44265837e+00 9.37946282e-01 3.11479377e-01 3.21069075e-01\n",
      " 4.93421804e-02 1.71580992e+00 2.16172808e+00 2.97805751e+00\n",
      " 6.13507016e-01 2.61616323e-01 2.34265974e+00 5.80739867e-01\n",
      " 4.89592682e-02 1.67205938e-01 5.83589184e-01 5.76465891e-01\n",
      " 1.01526076e+00 1.87151160e-01 6.06383723e-01 3.72356788e-01\n",
      " 3.77013676e-01 4.32606335e-02 8.19699612e-01 9.90658653e-01\n",
      " 2.10901571e+00 2.00356000e-01 1.23997392e+00 3.96575985e-01\n",
      " 9.69671685e-01 1.87534072e-01 2.20304319e+00 7.08576235e-01\n",
      " 3.86603374e-01 1.28271368e+00 9.49343552e-01 6.47315912e-01\n",
      " 1.27274107e+00 7.34220091e-01 4.54986991e-01 2.26572817e+00\n",
      " 1.42802887e+00 1.17159030e+00 1.40950830e+00 9.83535360e-01\n",
      " 1.21148075e+00 1.74712144e-01 1.88819362e+00 2.23438568e+00\n",
      " 2.49224890e+00 5.60794645e-01 5.89318790e-02 7.14657782e-01\n",
      " 3.14328694e-01 1.34008294e+00 4.62493197e-01 1.25460342e+00\n",
      " 6.80465974e-01 1.28740154e-01 1.24320615e+00 1.46218970e-01\n",
      " 5.65068621e-01 5.09124021e-01 4.75315125e-01 1.25890837e-01\n",
      " 9.49343552e-01 1.71862827e-01 8.46768127e-01 4.74932212e-01\n",
      " 2.82276971e+00 3.47668804e+00 2.50079685e+00 1.25137119e+00\n",
      " 1.99646768e+00 3.80904740e-01 4.32575364e-01 1.60611120e+00\n",
      " 2.92392048e+00 2.79570120e+00 6.28795349e-01 2.82986203e-01\n",
      " 4.93452775e-01 1.52917963e+00 2.79753974e-01 4.57836308e-01\n",
      " 8.72411983e-01 2.70164275e-01 1.04520957e-01 1.54384010e-01\n",
      " 9.85342931e-01 9.68247027e-01 2.51643712e-01 8.35339887e-02\n",
      " 2.11370357e-01 6.17398080e-01 2.88301926e-01 2.18493651e-01\n",
      " 9.57891504e-01 2.81279710e+00 2.51643712e-01 5.82164525e-01\n",
      " 1.66594687e+00 3.44677021e+00 1.49356317e+00 7.94055756e-01\n",
      " 1.30835754e+00 1.75997434e+00 3.01082466e+00 1.48501521e+00\n",
      " 1.31263151e+00 1.03235667e+00 1.03909705e+00 2.86693413e+00\n",
      " 1.68874140e+00 5.19479544e-01 6.10657699e-01 6.35887672e-02\n",
      " 3.60959518e-01 2.00359097e+00 6.74384427e-01 8.11151660e-01\n",
      " 1.39953569e+00 7.71261217e-01 2.81178632e-01 7.51315996e-01\n",
      " 2.18737194e+00 9.73562749e-01 1.93805667e+00 2.33411178e+00\n",
      " 1.14452179e+00 2.39863531e-01 7.78353540e-02 1.07753186e-01\n",
      " 4.32606335e-02 3.99425303e-01 8.21124271e-01 1.23000131e+00\n",
      " 4.92028116e-01 2.24575198e-01 3.92684921e-01 5.60411733e-01\n",
      " 3.76630764e-01 7.04685171e-01 8.60003938e-02 1.07756283e+00\n",
      " 8.35370857e-01 4.35041769e-01 2.99699195e-01 9.93507970e-01\n",
      " 1.35537127e+00 4.72082895e-01 1.61750847e+00 8.04028367e-01\n",
      " 4.99151410e-01 4.45397292e-01 1.86863131e+00 2.31698491e-01\n",
      " 3.72739700e-01 2.65476416e-02 4.02274620e-01 8.25781159e-01\n",
      " 5.28027496e-01 7.16082441e-01 1.38712765e-01 2.44520419e-01\n",
      " 2.01397747e-01 1.30164813e-01 3.47095844e-01 8.21507183e-01\n",
      " 1.85726501e-01 2.08521040e-01 3.89866575e-02 2.87260179e-01\n",
      " 5.93561795e-01 6.89044897e-02 2.00356000e-01 8.24356500e-01\n",
      " 3.61342430e-01 4.46852922e-02 3.61373401e-02 3.52794478e-01\n",
      " 5.92137136e-01 5.55096010e-01 3.21451988e-01 4.26876730e-01\n",
      " 4.51095927e-01 1.36249457e+00 3.63808836e-01 5.86055589e-01\n",
      " 8.39644833e-01 3.85561628e-01 5.50822034e-01 3.29617027e-01\n",
      " 4.99151410e-01 9.32247647e-01 2.92575902e-01 4.19370524e-01\n",
      " 5.70767256e-01 6.31644667e-01 8.85616823e-01 4.96685005e-01\n",
      " 1.03479210e-01 1.57233328e-01 2.24575198e-01 2.45945078e-01\n",
      " 1.61507304e-01 4.79175218e-02 1.31443908e+00 6.86164609e-01\n",
      " 3.55504427e+00 3.88024936e+00 1.88287790e+00 3.45000244e+00\n",
      " 1.87290529e+00 5.67535026e-01 1.04194637e+00 9.77805754e-02\n",
      " 5.83589184e-01 1.96408344e+00 3.05822130e+00 1.46506999e+00\n",
      " 5.19096631e-01 7.25672139e-01 1.35863447e-01 8.78079647e-02\n",
      " 9.73562749e-01 3.70932129e-01 1.06654848e+00 1.08934301e+00\n",
      " 2.73054981e+00 1.43553507e+00 2.32594674e+00 1.83016553e+00\n",
      " 2.00112457e+00 1.27454864e+00 8.14383890e-01 3.32849257e-01\n",
      " 1.77887781e+00 1.30547725e-01 5.66493280e-01 2.65507387e-01\n",
      " 1.71479914e-01 7.65945495e-01 1.18479515e+00 6.16356334e-01\n",
      " 4.24027412e-01 8.31510764e-02 1.70055256e-01 1.33295965e+00\n",
      " 1.07367177e+00 8.57123650e-01 3.05822130e+00 9.63973050e-01\n",
      " 9.51151122e-01 8.08302343e-01 7.51698908e-01 5.30493901e-01\n",
      " 2.36013855e+00 1.60934343e+00 2.51542635e+00 2.12795016e-01\n",
      " 7.08576235e-01 1.39706929e+00 4.66767173e-01 7.68411900e-01\n",
      " 1.80027866e-01 3.96958897e-01 9.06986703e-01 2.58767006e-01\n",
      " 1.02523337e+00 5.53671352e-01 6.37726214e-01 1.17725797e-01\n",
      " 1.30547725e-01 1.35863447e-01 9.02743698e-02 7.81233828e-01\n",
      " 1.99973088e-01 2.15644333e-01 1.09177845e-01 4.90603458e-01\n",
      " 2.51260800e-01 1.88958731e-01 4.98109663e-01 9.36904536e-01\n",
      " 6.64794729e-01 1.72904573e-01 9.35065994e-02 2.85452608e-01\n",
      " 6.13507016e-01 2.48411483e-01 8.03017591e-02 4.79175218e-02\n",
      " 1.41944994e-01 1.88575818e-01 6.61562499e-01 5.27644583e-01\n",
      " 1.76167773e-02 1.57904269e+00 6.31644667e-01 3.42438955e-01\n",
      " 4.39698658e-01 4.96685005e-01 2.33154120e-02 2.90109497e-01\n",
      " 5.93178882e-01 1.30164813e-01 4.61099509e-02 3.25343051e-01\n",
      " 1.07753186e-01 7.48849590e-01 4.73890466e-01 4.01232873e-01\n",
      " 5.10931591e-01 8.14383890e-01 1.67588851e-01 7.92600126e-02\n",
      " 2.17068992e-01 9.90658653e-01 1.22183627e+00 1.74712144e-01\n",
      " 2.84027950e-01 1.39706929e+00 1.41944994e-01 7.92600126e-02\n",
      " 6.07394498e-02 6.62987158e-01 1.10605601e+00 7.44575614e-01\n",
      " 5.89287819e-01 3.89866575e-02 2.43095760e-01 5.40849424e-01\n",
      " 1.18337049e+00 1.24035683e+00 1.69767227e+00 4.29726047e-01\n",
      " 4.29726047e-01 8.22931842e-01 5.10931591e-01 8.75644213e-01\n",
      " 1.27454864e+00 6.98986537e-01 3.78438335e-01 1.01953474e+00\n",
      " 3.67041065e-01 4.39315745e-01 2.34547808e-01 9.84960018e-01\n",
      " 7.25672139e-01 3.62767089e-01]\n"
     ]
    }
   ],
   "source": [
    "from scipy import stats\n",
    "import numpy as np\n",
    "\n",
    "z = np.abs(stats.zscore(boston_df['RM']))\n",
    "print(z)"
   ]
  },
  {
   "cell_type": "code",
   "execution_count": 26,
   "metadata": {},
   "outputs": [
    {
     "data": {
      "text/plain": [
       "(array([225, 257, 262, 364, 365, 367, 374, 406], dtype=int64),)"
      ]
     },
     "execution_count": 26,
     "metadata": {},
     "output_type": "execute_result"
    }
   ],
   "source": [
    "#threshold = 3\n",
    "np.where(z > 3)"
   ]
  },
  {
   "cell_type": "markdown",
   "metadata": {},
   "source": [
    "Как удалить выбросы"
   ]
  },
  {
   "cell_type": "code",
   "execution_count": null,
   "metadata": {},
   "outputs": [],
   "source": [
    "boston_df_o = boston_df.iloc[np.where(z <= 3)[0]]"
   ]
  },
  {
   "cell_type": "code",
   "execution_count": null,
   "metadata": {},
   "outputs": [],
   "source": [
    "boston_df.shape, boston_df_o.shape"
   ]
  },
  {
   "cell_type": "markdown",
   "metadata": {},
   "source": [
    "### IQR\n",
    "\n",
    "IQR (интерквартильный размах) = Q3 - Q1, где Q1, Q3 - 25%- и 75%- квантили распределения соответственно."
   ]
  },
  {
   "cell_type": "code",
   "execution_count": 16,
   "metadata": {},
   "outputs": [
    {
     "data": {
      "text/plain": [
       "<matplotlib.axes._subplots.AxesSubplot at 0x2095d699548>"
      ]
     },
     "execution_count": 16,
     "metadata": {},
     "output_type": "execute_result"
    },
    {
     "data": {
      "image/png": "[encoded data removed]",
      "text/plain": [
       "<Figure size 432x288 with 1 Axes>"
      ]
     },
     "metadata": {
      "needs_background": "light"
     },
     "output_type": "display_data"
    }
   ],
   "source": [
    "import seaborn as sns\n",
    "sns.boxplot(x=boston_df['RM'])"
   ]
  },
  {
   "cell_type": "code",
   "execution_count": 17,
   "metadata": {},
   "outputs": [
    {
     "name": "stdout",
     "output_type": "stream",
     "text": [
      "0.7380000000000004\n"
     ]
    }
   ],
   "source": [
    "Q1 = boston_df['RM'].quantile(0.25)\n",
    "Q3 = boston_df['RM'].quantile(0.75)\n",
    "IQR = Q3 - Q1\n",
    "print(IQR)"
   ]
  },
  {
   "cell_type": "code",
   "execution_count": 34,
   "metadata": {},
   "outputs": [
    {
     "data": {
      "text/plain": [
       "0      False\n",
       "1      False\n",
       "2      False\n",
       "3      False\n",
       "4      False\n",
       "       ...  \n",
       "501    False\n",
       "502    False\n",
       "503    False\n",
       "504    False\n",
       "505    False\n",
       "Name: RM, Length: 506, dtype: bool"
      ]
     },
     "execution_count": 34,
     "metadata": {},
     "output_type": "execute_result"
    }
   ],
   "source": [
    "(boston_df['RM'] < (Q1 - 1.5 * IQR)) | (boston_df['RM'] > (Q3 + 1.5 * IQR))"
   ]
  },
  {
   "cell_type": "code",
   "execution_count": 46,
   "metadata": {},
   "outputs": [
    {
     "data": {
      "text/plain": [
       "(array([  0,   1,   2,   3,   4,   5,   6,   7,   8,   9,  10,  11,  12,\n",
       "         13,  14,  15,  16,  17,  18,  19,  20,  21,  22,  23,  24,  25,\n",
       "         26,  27,  28,  29,  30,  31,  32,  33,  34,  35,  36,  37,  38,\n",
       "         39,  40,  41,  42,  43,  44,  45,  46,  47,  48,  49,  50,  51,\n",
       "         52,  53,  54,  55,  56,  57,  58,  59,  60,  61,  62,  63,  64,\n",
       "         65,  66,  67,  68,  69,  70,  71,  72,  73,  74,  75,  76,  77,\n",
       "         78,  79,  80,  81,  82,  83,  84,  85,  86,  87,  88,  89,  90,\n",
       "         91,  92,  93,  94,  95,  96,  99, 100, 101, 102, 103, 104, 105,\n",
       "        106, 107, 108, 109, 110, 111, 112, 113, 114, 115, 116, 117, 118,\n",
       "        119, 120, 121, 122, 123, 124, 125, 126, 127, 128, 129, 130, 131,\n",
       "        132, 133, 134, 135, 136, 137, 138, 139, 140, 141, 142, 143, 144,\n",
       "        145, 146, 147, 148, 149, 150, 151, 152, 153, 154, 155, 156, 157,\n",
       "        158, 159, 160, 161, 164, 165, 167, 168, 169, 170, 171, 172, 173,\n",
       "        174, 175, 176, 177, 178, 179, 181, 182, 183, 184, 185, 187, 188,\n",
       "        189, 190, 191, 192, 193, 194, 196, 197, 198, 199, 200, 201, 202,\n",
       "        205, 206, 207, 208, 209, 210, 211, 212, 213, 214, 215, 216, 217,\n",
       "        218, 219, 220, 221, 222, 223, 227, 228, 229, 230, 231, 234, 235,\n",
       "        236, 237, 238, 239, 240, 241, 242, 243, 244, 245, 246, 247, 248,\n",
       "        249, 250, 251, 252, 254, 255, 256, 258, 259, 260, 261, 263, 264,\n",
       "        265, 266, 268, 269, 270, 271, 272, 273, 274, 275, 276, 277, 278,\n",
       "        279, 281, 282, 284, 285, 286, 287, 288, 289, 290, 291, 292, 293,\n",
       "        294, 295, 296, 297, 298, 299, 300, 301, 302, 303, 304, 305, 306,\n",
       "        307, 308, 309, 310, 311, 312, 313, 314, 315, 316, 317, 318, 319,\n",
       "        320, 321, 322, 323, 324, 325, 326, 327, 328, 329, 330, 331, 332,\n",
       "        333, 334, 335, 336, 337, 338, 339, 340, 341, 342, 343, 344, 345,\n",
       "        346, 347, 348, 349, 350, 351, 352, 353, 354, 355, 356, 357, 358,\n",
       "        359, 360, 361, 362, 363, 366, 368, 369, 370, 371, 372, 373, 375,\n",
       "        376, 377, 378, 379, 380, 381, 382, 383, 385, 387, 388, 389, 390,\n",
       "        391, 392, 393, 394, 395, 396, 397, 398, 399, 400, 401, 402, 403,\n",
       "        404, 405, 407, 408, 409, 410, 411, 413, 415, 416, 417, 418, 419,\n",
       "        420, 421, 422, 423, 424, 425, 426, 427, 428, 429, 430, 431, 432,\n",
       "        433, 434, 435, 436, 437, 438, 439, 440, 441, 442, 443, 444, 445,\n",
       "        446, 447, 448, 449, 450, 451, 452, 453, 454, 455, 456, 457, 458,\n",
       "        459, 460, 461, 462, 463, 464, 465, 466, 467, 468, 469, 470, 471,\n",
       "        472, 473, 474, 475, 476, 477, 478, 479, 480, 481, 482, 483, 484,\n",
       "        485, 486, 487, 488, 489, 490, 491, 492, 493, 494, 495, 496, 497,\n",
       "        498, 499, 500, 501, 502, 503, 504, 505], dtype=int64),)"
      ]
     },
     "execution_count": 46,
     "metadata": {},
     "output_type": "execute_result"
    }
   ],
   "source": [
    "iqr_norm = np.where((boston_df['RM'] >= (Q1 - 1.5 * IQR)) & (boston_df['RM'] <= (Q3 + 1.5 * IQR)))\n",
    "iqr_norm"
   ]
  },
  {
   "cell_type": "markdown",
   "metadata": {},
   "source": [
    "Как удалить выбросы"
   ]
  },
  {
   "cell_type": "code",
   "execution_count": 49,
   "metadata": {},
   "outputs": [],
   "source": [
    "boston_df_out = boston_df.iloc[iqr_norm]"
   ]
  },
  {
   "cell_type": "code",
   "execution_count": 50,
   "metadata": {},
   "outputs": [
    {
     "data": {
      "text/plain": [
       "((476, 13), (506, 13))"
      ]
     },
     "execution_count": 50,
     "metadata": {},
     "output_type": "execute_result"
    }
   ],
   "source": [
    "boston_df_out.shape, boston_df.shape"
   ]
  },
  {
   "cell_type": "markdown",
   "metadata": {},
   "source": [
    "## 2. Многофакторный анализ\n",
    "\n",
    "Объект может быть выбросом не по какому-то признаку в отдельности, а по совокупности признаков. В этом случае для детектирования аномалий можно использовать разные подходы. \n",
    "\n",
    "### Первый подход: визуализация"
   ]
  },
  {
   "cell_type": "code",
   "execution_count": 54,
   "metadata": {},
   "outputs": [
    {
     "data": {
      "image/png": "[encoded data removed]",
      "text/plain": [
       "<Figure size 1152x576 with 1 Axes>"
      ]
     },
     "metadata": {
      "needs_background": "light"
     },
     "output_type": "display_data"
    }
   ],
   "source": [
    "fig, ax = plt.subplots(figsize=(16,8))\n",
    "ax.scatter(boston_df['INDUS'], boston_df['TAX'])\n",
    "ax.set_xlabel('Proportion of non-retail business acres per town')\n",
    "ax.set_ylabel('Full-value property-tax rate per $10,000')\n",
    "plt.show()"
   ]
  },
  {
   "cell_type": "code",
   "execution_count": 58,
   "metadata": {},
   "outputs": [],
   "source": [
    "boston_df_clean = boston_df[~((boston_df['INDUS'] > 20) & (boston_df['TAX'] > 300))]"
   ]
  },
  {
   "cell_type": "code",
   "execution_count": 59,
   "metadata": {},
   "outputs": [
    {
     "data": {
      "text/plain": [
       "((506, 13), (486, 13))"
      ]
     },
     "execution_count": 59,
     "metadata": {},
     "output_type": "execute_result"
    }
   ],
   "source": [
    "boston_df.shape, boston_df_clean.shape"
   ]
  },
  {
   "cell_type": "markdown",
   "metadata": {},
   "source": [
    "### Второй подход: алгоритмы поиска выбросов\n",
    "\n",
    "* Сначала обучим модель на исходных (грязных) данных и оценим её качество.\n",
    "* Затем удалим выбросы с помощью модели машинного обучения и посмотрим, помогает ли это улучшить качество модели."
   ]
  },
  {
   "cell_type": "code",
   "execution_count": 198,
   "metadata": {},
   "outputs": [],
   "source": [
    "from sklearn.model_selection import train_test_split\n",
    "\n",
    "Xtrain, Xtest, ytrain, ytest = train_test_split(boston_df, y, test_size=0.3, random_state=111)"
   ]
  },
  {
   "cell_type": "code",
   "execution_count": 199,
   "metadata": {},
   "outputs": [],
   "source": [
    "from sklearn.linear_model import LinearRegression\n",
    "\n",
    "model = LinearRegression()\n",
    "model.fit(Xtrain, ytrain)\n",
    "\n",
    "pred = model.predict(Xtest)"
   ]
  },
  {
   "cell_type": "code",
   "execution_count": 200,
   "metadata": {},
   "outputs": [
    {
     "data": {
      "text/plain": [
       "3.606279528312036"
      ]
     },
     "execution_count": 200,
     "metadata": {},
     "output_type": "execute_result"
    }
   ],
   "source": [
    "from sklearn.metrics import mean_absolute_error\n",
    "\n",
    "mean_absolute_error(ytest, pred)"
   ]
  },
  {
   "cell_type": "markdown",
   "metadata": {},
   "source": [
    "Найдем выбросы с помощью алгоритма *IsolationForest*\n",
    "\n",
    "* Найдем выбросы в тренировочных данных и удалим их, чтобы алгоритму было легче обучаться\n",
    "* Тестовые данные чистить не будем, так как алгоритм должен уметь работать с любыми данными"
   ]
  },
  {
   "cell_type": "code",
   "execution_count": 202,
   "metadata": {},
   "outputs": [],
   "source": [
    "from sklearn.ensemble import IsolationForest\n",
    "\n",
    "clf = IsolationForest(contamination=0.1, random_state=100)\n",
    "clf.fit(Xtrain)\n",
    "\n",
    "outliers_train = clf.predict(Xtrain)"
   ]
  },
  {
   "cell_type": "code",
   "execution_count": 203,
   "metadata": {},
   "outputs": [
    {
     "data": {
      "text/plain": [
       "array([-1,  1,  1,  1,  1, -1,  1,  1,  1,  1,  1,  1,  1,  1,  1,  1,  1,\n",
       "        1,  1,  1])"
      ]
     },
     "execution_count": 203,
     "metadata": {},
     "output_type": "execute_result"
    }
   ],
   "source": [
    "outliers_train[:20]"
   ]
  },
  {
   "cell_type": "markdown",
   "metadata": {},
   "source": [
    "Удалим выбросы"
   ]
  },
  {
   "cell_type": "code",
   "execution_count": 204,
   "metadata": {},
   "outputs": [],
   "source": [
    "Xtrain_clean = Xtrain[outliers_train == 1]\n",
    "ytrain_clean = ytrain[outliers_train == 1]"
   ]
  },
  {
   "cell_type": "code",
   "execution_count": 205,
   "metadata": {},
   "outputs": [
    {
     "data": {
      "text/plain": [
       "((354, 13), (318, 13))"
      ]
     },
     "execution_count": 205,
     "metadata": {},
     "output_type": "execute_result"
    }
   ],
   "source": [
    "Xtrain.shape, Xtrain_clean.shape"
   ]
  },
  {
   "cell_type": "markdown",
   "metadata": {},
   "source": [
    "Заново обучим модель, уже на очищенных данных"
   ]
  },
  {
   "cell_type": "code",
   "execution_count": 206,
   "metadata": {},
   "outputs": [],
   "source": [
    "model.fit(Xtrain_clean, ytrain_clean)\n",
    "\n",
    "pred = model.predict(Xtest)"
   ]
  },
  {
   "cell_type": "markdown",
   "metadata": {},
   "source": [
    "Оценим качество предсказания"
   ]
  },
  {
   "cell_type": "code",
   "execution_count": 207,
   "metadata": {},
   "outputs": [
    {
     "data": {
      "text/plain": [
       "3.5795475177361356"
      ]
     },
     "execution_count": 207,
     "metadata": {},
     "output_type": "execute_result"
    }
   ],
   "source": [
    "from sklearn.metrics import mean_absolute_error\n",
    "\n",
    "mean_absolute_error(ytest, pred)"
   ]
  },
  {
   "cell_type": "markdown",
   "metadata": {},
   "source": [
    "Путём удаления выбросов нам удалось улучшить качество предсказания модели!"
   ]
  }
 ],
 "metadata": {
  "kernelspec": {
   "display_name": "Python 3",
   "language": "python",
   "name": "python3"
  },
  "language_info": {
   "codemirror_mode": {
    "name": "ipython",
    "version": 3
   },
   "file_extension": ".py",
   "mimetype": "text/x-python",
   "name": "python",
   "nbconvert_exporter": "python",
   "pygments_lexer": "ipython3",
   "version": "3.7.6"
  }
 },
 "nbformat": 4,
 "nbformat_minor": 2
}
