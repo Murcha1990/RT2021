{
 "cells": [
  {
   "cell_type": "markdown",
   "id": "425068ca",
   "metadata": {},
   "source": [
    "## Решение задачи бинарной классификации\n",
    "\n",
    "План практической части:\n",
    "* решим задачу классификации с помощью логистической регрессии\n",
    "* изучим пайплайны\n",
    "* научимся подбирать гиперпараметры моделей"
   ]
  },
  {
   "cell_type": "markdown",
   "id": "23f21f2d",
   "metadata": {},
   "source": [
    "### Логистическая регрессия\n",
    "\n",
    "y = {-1, 1}\n",
    "\n",
    "$a(x) = \\sigma(<w,x>)$, где $\\sigma(z) = \\frac{1}{1 + e^{-z}}$\n",
    "\n",
    "Логистическая регрессия - это линейный классификатор, который кроме классов умеет предсказывать вероятности классов, а именно, $a(x) = P(y = +1 | x)$\n"
   ]
  },
  {
   "cell_type": "code",
   "execution_count": null,
   "id": "5b03c300",
   "metadata": {},
   "outputs": [],
   "source": [
    "import pandas as pd\n",
    "import numpy as np\n",
    "import seaborn as sns"
   ]
  },
  {
   "cell_type": "code",
   "execution_count": null,
   "id": "ca549dd9",
   "metadata": {},
   "outputs": [],
   "source": [
    "data = pd.read_csv('bike_buyers_clean.csv')"
   ]
  },
  {
   "cell_type": "code",
   "execution_count": null,
   "id": "7de85d74",
   "metadata": {},
   "outputs": [],
   "source": [
    "data.head()"
   ]
  },
  {
   "cell_type": "code",
   "execution_count": null,
   "metadata": {},
   "outputs": [],
   "source": [
    "data.drop(['ID'],axis=1,inplace=True)"
   ]
  },
  {
   "cell_type": "markdown",
   "id": "0744a18c",
   "metadata": {},
   "source": [
    "# Обзор данных"
   ]
  },
  {
   "cell_type": "code",
   "execution_count": null,
   "id": "c846a338",
   "metadata": {},
   "outputs": [],
   "source": [
    "# проверим типы колонок в датасете\n",
    "data.dtypes"
   ]
  },
  {
   "cell_type": "markdown",
   "metadata": {},
   "source": [
    "## Кодируем категориальные столбцы"
   ]
  },
  {
   "cell_type": "code",
   "execution_count": null,
   "metadata": {},
   "outputs": [],
   "source": [
    "# data = pd.get_dummies(data, columns=['Marital Status', 'Gender', 'Education', 'Occupation',\\\n",
    "#                                     'Commute Distance', 'Region'], drop_first=True)\n",
    "\n",
    "data.head()"
   ]
  },
  {
   "cell_type": "markdown",
   "metadata": {},
   "source": [
    "Оставим в данных только числовые колонки."
   ]
  },
  {
   "cell_type": "code",
   "execution_count": null,
   "id": "4a849f7d",
   "metadata": {
    "scrolled": true
   },
   "outputs": [],
   "source": [
    "X = data._get_numeric_data()\n",
    "y = data['Purchased Bike']\n",
    "\n",
    "X.head()"
   ]
  },
  {
   "cell_type": "code",
   "execution_count": null,
   "metadata": {},
   "outputs": [],
   "source": [
    "y.head()"
   ]
  },
  {
   "cell_type": "markdown",
   "metadata": {},
   "source": [
    "Проверим сбалансированность классов."
   ]
  },
  {
   "cell_type": "code",
   "execution_count": null,
   "id": "5abb0d94",
   "metadata": {},
   "outputs": [],
   "source": [
    "y.value_counts(normalize=True)"
   ]
  },
  {
   "cell_type": "markdown",
   "metadata": {},
   "source": [
    "Переведем классы в числа 0 и 1."
   ]
  },
  {
   "cell_type": "code",
   "execution_count": null,
   "id": "c47e44c2",
   "metadata": {},
   "outputs": [],
   "source": [
    "y = (y == 'Yes').astype(int)\n",
    "y"
   ]
  },
  {
   "cell_type": "markdown",
   "id": "1f77f2cb",
   "metadata": {},
   "source": [
    "## Масштабирование числовых признаков"
   ]
  },
  {
   "cell_type": "code",
   "execution_count": null,
   "id": "91ecd400",
   "metadata": {},
   "outputs": [],
   "source": [
    "X.head()"
   ]
  },
  {
   "cell_type": "code",
   "execution_count": null,
   "id": "2aba0cc6",
   "metadata": {},
   "outputs": [],
   "source": [
    "from sklearn.preprocessing import StandardScaler\n",
    "\n",
    "scaler = StandardScaler()\n",
    "scaler.fit_transform(X[['Income']])"
   ]
  },
  {
   "cell_type": "markdown",
   "id": "e0414655",
   "metadata": {},
   "source": [
    "Важное замечание:\n",
    "- любое преобразование признаков в ML-задачах нужно обучать только на тренировочных данных"
   ]
  },
  {
   "cell_type": "code",
   "execution_count": null,
   "metadata": {},
   "outputs": [],
   "source": [
    "from sklearn.model_selection import train_test_split\n",
    "from sklearn.metrics import accuracy_score\n",
    "\n",
    "X_train, X_test, y_train, y_test = train_test_split(X, y)\n",
    "\n",
    "scaler = StandardScaler()\n",
    "scaler.fit(X_train) # алгоритм находит параметры: m и sigma\n",
    "\n",
    "X_train_sc = scaler.transform(X_train) # нормирует: x->(x-m)/sigma\n",
    "X_test_sc = scaler.transform(X_test)"
   ]
  },
  {
   "cell_type": "code",
   "execution_count": null,
   "metadata": {},
   "outputs": [],
   "source": [
    "X_train_sc"
   ]
  },
  {
   "cell_type": "code",
   "execution_count": null,
   "metadata": {},
   "outputs": [],
   "source": [
    "X_train = pd.DataFrame(X_train_sc, index=X_train.index, columns=X_train.columns)\n",
    "X_test = pd.DataFrame(X_test_sc, index=X_test.index, columns=X_test.columns)\n",
    "\n",
    "X_train.head()"
   ]
  },
  {
   "cell_type": "markdown",
   "metadata": {},
   "source": [
    "Обучим логистическую регрессию и посмотрим на качество модели."
   ]
  },
  {
   "cell_type": "code",
   "execution_count": null,
   "metadata": {},
   "outputs": [],
   "source": [
    "from sklearn.linear_model import LogisticRegression\n",
    "\n",
    "model = LogisticRegression()\n",
    "model.fit(X_train, y_train)\n",
    "\n",
    "y_pred = model.predict(X_test)"
   ]
  },
  {
   "cell_type": "code",
   "execution_count": null,
   "metadata": {},
   "outputs": [],
   "source": [
    "from sklearn.metrics import accuracy_score\n",
    "\n",
    "accuracy_score(y_pred, y_test)"
   ]
  },
  {
   "cell_type": "markdown",
   "metadata": {},
   "source": [
    "Pipeline (пайплайн) - инструмент sklearn, позволяющий объединять в единую структуру несколько шагов по работе с данными. Готовый pipeline ведёт себя как обычная модель, то есть, имеет методы fit и predict."
   ]
  },
  {
   "cell_type": "code",
   "execution_count": null,
   "id": "ba1d0eb3",
   "metadata": {},
   "outputs": [],
   "source": [
    "from sklearn.pipeline import Pipeline\n",
    "\n",
    "pipe = Pipeline([\n",
    "    ('scaler_', StandardScaler()),\n",
    "    ('model_', LogisticRegression(C=100))\n",
    "    ])"
   ]
  },
  {
   "cell_type": "code",
   "execution_count": null,
   "id": "9cf3065c",
   "metadata": {},
   "outputs": [],
   "source": [
    "# пример работы с пайплайном\n",
    "\n",
    "pipe.fit(X_train, y_train)\n",
    "\n",
    "y_pred = pipe.predict(X_test)\n",
    "\n",
    "print(accuracy_score(y_test, y_pred))"
   ]
  },
  {
   "cell_type": "markdown",
   "metadata": {},
   "source": [
    "## Интерпретация результатов"
   ]
  },
  {
   "cell_type": "code",
   "execution_count": null,
   "metadata": {},
   "outputs": [],
   "source": [
    "model.coef_, model.intercept_"
   ]
  },
  {
   "cell_type": "code",
   "execution_count": null,
   "metadata": {},
   "outputs": [],
   "source": [
    "coefs = pd.DataFrame(model.coef_, index=np.arange(len(model.coef_)), columns=X_train.columns)\n",
    "coefs['Intercept'] = model.intercept_\n",
    "coefs"
   ]
  },
  {
   "cell_type": "markdown",
   "metadata": {},
   "source": [
    "## Подбор гиперпараметров модели"
   ]
  },
  {
   "cell_type": "code",
   "execution_count": null,
   "metadata": {},
   "outputs": [],
   "source": [
    "from sklearn.model_selection import cross_val_score\n",
    "\n",
    "model = LogisticRegression()\n",
    "\n",
    "cross_val_score(model, X, y, cv=3).mean()"
   ]
  },
  {
   "cell_type": "code",
   "execution_count": null,
   "metadata": {},
   "outputs": [],
   "source": [
    "from sklearn.model_selection import GridSearchCV # поиск по сетке\n",
    "\n",
    "params = {'C' : [0.0001, 0.001, 0.01, 0.1, 0.3, 0.7, 1, 10, 20, 100, 1000],\n",
    "          'class_weight' : [None, 'balanced'],\n",
    "          'penalty' : ['l1', 'l2']} # регуляризация\n",
    "\n",
    "gs = GridSearchCV(LogisticRegression(solver='liblinear'), params, cv=3, scoring='accuracy')\n",
    "gs.fit(X, y)"
   ]
  },
  {
   "cell_type": "code",
   "execution_count": null,
   "metadata": {},
   "outputs": [],
   "source": [
    "gs.best_score_"
   ]
  },
  {
   "cell_type": "code",
   "execution_count": null,
   "metadata": {},
   "outputs": [],
   "source": [
    "gs.best_estimator_"
   ]
  }
 ],
 "metadata": {
  "kernelspec": {
   "display_name": "Python 3",
   "language": "python",
   "name": "python3"
  },
  "language_info": {
   "codemirror_mode": {
    "name": "ipython",
    "version": 3
   },
   "file_extension": ".py",
   "mimetype": "text/x-python",
   "name": "python",
   "nbconvert_exporter": "python",
   "pygments_lexer": "ipython3",
   "version": "3.7.6"
  }
 },
 "nbformat": 4,
 "nbformat_minor": 5
}
